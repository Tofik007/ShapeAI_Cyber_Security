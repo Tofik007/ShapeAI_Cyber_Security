{
  "nbformat": 4,
  "nbformat_minor": 0,
  "metadata": {
    "colab": {
      "name": "Taufik_Sumara_CS.ipynb",
      "provenance": []
    },
    "kernelspec": {
      "name": "python3",
      "display_name": "Python 3"
    },
    "language_info": {
      "name": "python"
    }
  },
  "cells": [
    {
      "cell_type": "code",
      "metadata": {
        "colab": {
          "base_uri": "https://localhost:8080/"
        },
        "id": "jXe-QTwiC2y0",
        "outputId": "203c7131-5775-4e1a-9ae2-bb824e6008bc"
      },
      "source": [
        "import requests\n",
        "#import os\n",
        "from datetime import datetime\n",
        "\n",
        "api_key = '8e78ab7633b748d8124a83a2d7a78856'\n",
        "location = input(\"Enter the city name: \")\n",
        "\n",
        "complete_api_link = \"https://api.openweathermap.org/data/2.5/weather?q=London,uk&APPID=aa707a0e04cc13753dae5361d29e07ee\"\n",
        "api_link = requests.get(complete_api_link)\n",
        "api_data = api_link.json()\n",
        "\n",
        "#create variables to store and display data\n",
        "temp_city = ((api_data['main']['temp']) - 273.15)\n",
        "weather_desc = api_data['weather'][0]['description']\n",
        "hmdt = api_data['main']['humidity']\n",
        "wind_spd = api_data['wind']['speed']\n",
        "date_time = datetime.now().strftime(\"%d %b %Y | %I:%M:%S %p\")\n",
        "\n",
        "print (\"-------------------------------------------------------------\")\n",
        "print (\"Weather Stats for - {}  || {}\".format(location.upper(), date_time))\n",
        "print (\"-------------------------------------------------------------\")\n",
        "\n",
        "print (\"Current temperature is: {:.2f} deg C\".format(temp_city))\n",
        "print (\"Current weather desc  :\",weather_desc)\n",
        "print (\"Current Humidity      :\",hmdt, '%')\n",
        "print (\"Current wind speed    :\",wind_spd ,'kmph')\n",
        "\n",
        "print(\"====================================================\")\n",
        "\n",
        "\n",
        "# making a list so that i can print the info to a txt \n",
        "txtlist = [temp_city,weather_desc,hmdt,wind_spd,date_time]\n",
        "#using open() buit-in function to write to a text file\n",
        "with open(\"textfile.txt\" , mode= 'w' ,encoding= 'utf-8') as f :     \n",
        "                                #encoding = utf-8 for linux and cp1252 for win\n",
        "    f.write(\"------------------------------------------------------------- \\n \")   \n",
        "    f.write(\"Weather Stats for - {}  || {}\".format(location.upper(), date_time))\n",
        "    f.write(\"\\n ------------------------------------------------------------- \\n\")\n",
        "    f.write(\"Current temperature is: {:.2f} deg C\\n\".format(txtlist[0]))\n",
        "    \n",
        "    f.write(\"{},{} \\n\".format(\"Current weather desc  :\" ,txtlist[1]))\n",
        "    f.write(\"{},{},{} \\n\".format(\"Current Humidity      :\",txtlist[2],\"%\"))\n",
        "    f.write(\"{},{},{} \\n\".format(\"Current wind speed    :\",txtlist[3],\"kmph\"))\n",
        "    f.write(\"====================================================\")\n",
        "    \n"
      ],
      "execution_count": 1,
      "outputs": [
        {
          "output_type": "stream",
          "text": [
            "Enter the city name: Visnagar\n",
            "-------------------------------------------------------------\n",
            "Weather Stats for - VISNAGAR  || 27 Jul 2021 | 08:21:03 AM\n",
            "-------------------------------------------------------------\n",
            "Current temperature is: 18.52 deg C\n",
            "Current weather desc  : overcast clouds\n",
            "Current Humidity      : 74 %\n",
            "Current wind speed    : 0.45 kmph\n",
            "====================================================\n"
          ],
          "name": "stdout"
        }
      ]
    }
  ]
}